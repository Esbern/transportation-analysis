{
 "cells": [
  {
   "cell_type": "markdown",
   "id": "22c70d4b-172d-4285-a335-08b9c7927d24",
   "metadata": {},
   "source": [
    "# Example notebook: How to clip a osm.pbf file"
   ]
  },
  {
   "cell_type": "code",
   "execution_count": 1,
   "id": "048a97de-f1c2-4e38-a9aa-d37f30ffeb22",
   "metadata": {},
   "outputs": [],
   "source": [
    "#import necessary library \n",
    "import os"
   ]
  },
  {
   "cell_type": "code",
   "execution_count": 2,
   "id": "645a2f74-2799-47b5-81e2-96c096e97e68",
   "metadata": {},
   "outputs": [
    {
     "name": "stdout",
     "output_type": "stream",
     "text": [
      "osmium version 1.15.0\n",
      "libosmium version 2.18.0\n",
      "Supported PBF compression types: none zlib lz4\n",
      "\n",
      "Copyright (C) 2013-2023  Jochen Topf <jochen@topf.org>\n",
      "License: GNU GENERAL PUBLIC LICENSE Version 3 <https://gnu.org/licenses/gpl.html>.\n",
      "This is free software: you are free to change and redistribute it.\n",
      "There is NO WARRANTY, to the extent permitted by law.\n"
     ]
    }
   ],
   "source": [
    "# tject to see if osmium is available \n",
    "!osmium --version"
   ]
  },
  {
   "cell_type": "markdown",
   "id": "87bcf3f6-2ab5-4be3-9c25-e1324d52b87c",
   "metadata": {},
   "source": [
    "## Define boundary box, OSM PBF file and output path"
   ]
  },
  {
   "cell_type": "code",
   "execution_count": 8,
   "id": "0d32eee4-2a11-47bf-819a-909768e8d668",
   "metadata": {},
   "outputs": [],
   "source": [
    "input_pbf = \"/data/denmark-latest.osm.pbf\"\n",
    "output_pbf = \"/data/lolland_b_osm_file.osm.pbf\"\n",
    "clipfile = \"/data/clip.geojson\"\n",
    "bbox = \"10.916,54.146,12.181,54.99\"  # Example bounding box (min_lon, min_lat, max_lon, max_lat) no space allowed"
   ]
  },
  {
   "cell_type": "markdown",
   "id": "2a8062c5-0df2-40f8-8db2-2245ca3f067e",
   "metadata": {},
   "source": [
    "## There are two common methods for clipping, either by a boundary box or by a geojson polygon"
   ]
  },
  {
   "cell_type": "markdown",
   "id": "951f7658-9bdb-4de7-a75d-8f9232cb00cf",
   "metadata": {},
   "source": [
    "### Run the osmium tool with a clipping command based on a boundary box"
   ]
  },
  {
   "cell_type": "code",
   "execution_count": 9,
   "id": "0fe8a87c-d6a9-4246-ad7d-afc059e208b3",
   "metadata": {},
   "outputs": [
    {
     "data": {
      "text/plain": [
       "0"
      ]
     },
     "execution_count": 9,
     "metadata": {},
     "output_type": "execute_result"
    }
   ],
   "source": [
    "os.system(f\"osmium extract -b {bbox} -o {output_pbf} {input_pbf}\")"
   ]
  },
  {
   "cell_type": "markdown",
   "id": "5a7c5fbb-10b6-4253-9525-36cf856e3bed",
   "metadata": {},
   "source": [
    "### Run the osmium tool with a clipping command based on a geojson polygon"
   ]
  },
  {
   "cell_type": "code",
   "execution_count": 7,
   "id": "03f05223-4f79-4379-b27a-ee148064bd02",
   "metadata": {},
   "outputs": [
    {
     "data": {
      "text/plain": [
       "0"
      ]
     },
     "execution_count": 7,
     "metadata": {},
     "output_type": "execute_result"
    }
   ],
   "source": [
    "os.system(f\"osmium extract -p {clipfile} -o {output_pbf} {input_pbf}\")"
   ]
  },
  {
   "cell_type": "code",
   "execution_count": null,
   "id": "87e02599-b5a9-44d8-a833-1cb98bedaadc",
   "metadata": {},
   "outputs": [],
   "source": []
  }
 ],
 "metadata": {
  "kernelspec": {
   "display_name": "Python 3 (ipykernel)",
   "language": "python",
   "name": "python3"
  },
  "language_info": {
   "codemirror_mode": {
    "name": "ipython",
    "version": 3
   },
   "file_extension": ".py",
   "mimetype": "text/x-python",
   "name": "python",
   "nbconvert_exporter": "python",
   "pygments_lexer": "ipython3",
   "version": "3.11.9"
  }
 },
 "nbformat": 4,
 "nbformat_minor": 5
}
